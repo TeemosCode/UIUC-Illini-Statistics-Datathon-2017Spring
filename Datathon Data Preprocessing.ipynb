{
 "cells": [
  {
   "cell_type": "code",
   "execution_count": 107,
   "metadata": {
    "collapsed": true
   },
   "outputs": [],
   "source": [
    "import pandas as pd\n",
    "import glob\n",
    "import os\n",
    "from functools import reduce"
   ]
  },
  {
   "cell_type": "code",
   "execution_count": null,
   "metadata": {
    "collapsed": true
   },
   "outputs": [],
   "source": []
  },
  {
   "cell_type": "code",
   "execution_count": 108,
   "metadata": {},
   "outputs": [
    {
     "data": {
      "text/html": [
       "<div>\n",
       "<table border=\"1\" class=\"dataframe\">\n",
       "  <thead>\n",
       "    <tr style=\"text-align: right;\">\n",
       "      <th></th>\n",
       "      <th>ASPNHSUS</th>\n",
       "      <th>UNRATE_x</th>\n",
       "      <th>UNRATE_y</th>\n",
       "      <th>USACPIHOUMINMEI_x</th>\n",
       "      <th>USACPIHOUMINMEI_y</th>\n",
       "      <th>CSUSHPINSA_x</th>\n",
       "      <th>CSUSHPINSA_y</th>\n",
       "      <th>MSPNHSUS</th>\n",
       "      <th>MSACSR</th>\n",
       "      <th>MORTGAGE30US_x</th>\n",
       "      <th>MORTGAGE30US_y</th>\n",
       "      <th>NHFSEPUC</th>\n",
       "      <th>NHSDPC</th>\n",
       "      <th>NHSDPNS</th>\n",
       "      <th>HNFSEPUSSA</th>\n",
       "      <th>HSN1F</th>\n",
       "      <th>DSPIC96_x</th>\n",
       "      <th>DATE</th>\n",
       "      <th>DSPIC96_y</th>\n",
       "    </tr>\n",
       "  </thead>\n",
       "  <tbody>\n",
       "  </tbody>\n",
       "</table>\n",
       "</div>"
      ],
      "text/plain": [
       "Empty DataFrame\n",
       "Columns: [ASPNHSUS, UNRATE_x, UNRATE_y, USACPIHOUMINMEI_x, USACPIHOUMINMEI_y, CSUSHPINSA_x, CSUSHPINSA_y, MSPNHSUS, MSACSR, MORTGAGE30US_x, MORTGAGE30US_y, NHFSEPUC, NHSDPC, NHSDPNS, HNFSEPUSSA, HSN1F, DSPIC96_x, DATE, DSPIC96_y]\n",
       "Index: []"
      ]
     },
     "execution_count": 108,
     "metadata": {},
     "output_type": "execute_result"
    }
   ],
   "source": [
    "# Find all names of our data files in csv format (all csv data has the format of 2 columns, 1st column being DATE, \n",
    "# Second column being the feature we believe that is important for our model). In order to merge all these seperate\n",
    "# featrue values into a single csv (pandas DataFrame) file for futher data cleaning and processing before the modeling,\n",
    "# phase, we loop through all the file names (saved into a list) and reading them into the pandas DataFrame one at a \n",
    "# time while joining them based on the \"DATE\" column.\n",
    "\n",
    "# Initialize an empty DataFrame object to build up into a complete dataframe with all needed features through merging other feature dataframes\n",
    "df = pd.DataFrame()\n",
    "# locate the directory path where the data are located on the local machine\n",
    "wd = os.path.abspath('FeatureData')\n",
    "# find all the data in csv format under the located directory and save them as a list variable\n",
    "all_files = glob.glob(wd + '/*.csv')\n",
    "# Open all the csv feature data as a Pandas DataFrame and saving it inside a list variable\n",
    "df_list = [pd.read_csv(file) for file in all_files]\n",
    "# Merge all feature dataframes into one single Pandas DataFrame (The previous intialized DataFrame)\n",
    "df = reduce(lambda df1, df2: pd.merge(df1,df2,on=\"DATE\"), df_list)\n",
    "df"
   ]
  },
  {
   "cell_type": "code",
   "execution_count": null,
   "metadata": {
    "collapsed": true
   },
   "outputs": [],
   "source": []
  },
  {
   "cell_type": "markdown",
   "metadata": {},
   "source": [
    "Due to the fact that the \"DATE\" column's format in different feature csv data being different from different online sources, the above merge would not be able to happen properly, resulting the dataframe to only have the merged column names but no tuple data rows."
   ]
  },
  {
   "cell_type": "code",
   "execution_count": 119,
   "metadata": {},
   "outputs": [
    {
     "data": {
      "text/html": [
       "<div>\n",
       "<table border=\"1\" class=\"dataframe\">\n",
       "  <thead>\n",
       "    <tr style=\"text-align: right;\">\n",
       "      <th></th>\n",
       "      <th>ASPNHSUS</th>\n",
       "      <th>UNRATE</th>\n",
       "      <th>USACPIHOUMINMEI</th>\n",
       "      <th>CSUSHPINSA</th>\n",
       "      <th>MSPNHSUS</th>\n",
       "      <th>MSACSR</th>\n",
       "      <th>MORTGAGE30US</th>\n",
       "      <th>NHFSEPUC</th>\n",
       "      <th>NHSDPC</th>\n",
       "      <th>NHSDPNS</th>\n",
       "      <th>HNFSEPUSSA</th>\n",
       "      <th>HSN1F</th>\n",
       "      <th>DSPIC96</th>\n",
       "    </tr>\n",
       "  </thead>\n",
       "  <tbody>\n",
       "    <tr>\n",
       "      <th>0</th>\n",
       "      <td>144200.0</td>\n",
       "      <td>7.3</td>\n",
       "      <td>59.963759</td>\n",
       "      <td>75.697</td>\n",
       "      <td>120000.0</td>\n",
       "      <td>5.2</td>\n",
       "      <td>8.4320</td>\n",
       "      <td>131.0</td>\n",
       "      <td>16.0</td>\n",
       "      <td>17.0</td>\n",
       "      <td>281.0</td>\n",
       "      <td>676.0</td>\n",
       "      <td>6616.3</td>\n",
       "    </tr>\n",
       "    <tr>\n",
       "      <th>1</th>\n",
       "      <td>144800.0</td>\n",
       "      <td>7.4</td>\n",
       "      <td>60.195578</td>\n",
       "      <td>75.652</td>\n",
       "      <td>117200.0</td>\n",
       "      <td>4.9</td>\n",
       "      <td>8.7625</td>\n",
       "      <td>129.0</td>\n",
       "      <td>16.0</td>\n",
       "      <td>20.0</td>\n",
       "      <td>269.0</td>\n",
       "      <td>639.0</td>\n",
       "      <td>6649.9</td>\n",
       "    </tr>\n",
       "    <tr>\n",
       "      <th>2</th>\n",
       "      <td>144800.0</td>\n",
       "      <td>7.4</td>\n",
       "      <td>60.466033</td>\n",
       "      <td>75.812</td>\n",
       "      <td>120000.0</td>\n",
       "      <td>6.1</td>\n",
       "      <td>8.9350</td>\n",
       "      <td>135.0</td>\n",
       "      <td>16.0</td>\n",
       "      <td>20.0</td>\n",
       "      <td>279.0</td>\n",
       "      <td>553.0</td>\n",
       "      <td>6659.6</td>\n",
       "    </tr>\n",
       "    <tr>\n",
       "      <th>3</th>\n",
       "      <td>145000.0</td>\n",
       "      <td>7.4</td>\n",
       "      <td>60.388760</td>\n",
       "      <td>76.079</td>\n",
       "      <td>120000.0</td>\n",
       "      <td>6.1</td>\n",
       "      <td>8.8525</td>\n",
       "      <td>134.0</td>\n",
       "      <td>14.0</td>\n",
       "      <td>17.0</td>\n",
       "      <td>274.0</td>\n",
       "      <td>546.0</td>\n",
       "      <td>6679.4</td>\n",
       "    </tr>\n",
       "    <tr>\n",
       "      <th>4</th>\n",
       "      <td>146000.0</td>\n",
       "      <td>7.6</td>\n",
       "      <td>60.350123</td>\n",
       "      <td>76.398</td>\n",
       "      <td>113000.0</td>\n",
       "      <td>6.0</td>\n",
       "      <td>8.6720</td>\n",
       "      <td>135.0</td>\n",
       "      <td>16.0</td>\n",
       "      <td>18.0</td>\n",
       "      <td>273.0</td>\n",
       "      <td>554.0</td>\n",
       "      <td>6712.9</td>\n",
       "    </tr>\n",
       "  </tbody>\n",
       "</table>\n",
       "</div>"
      ],
      "text/plain": [
       "   ASPNHSUS  UNRATE  USACPIHOUMINMEI  CSUSHPINSA  MSPNHSUS  MSACSR  \\\n",
       "0  144200.0     7.3        59.963759      75.697  120000.0     5.2   \n",
       "1  144800.0     7.4        60.195578      75.652  117200.0     4.9   \n",
       "2  144800.0     7.4        60.466033      75.812  120000.0     6.1   \n",
       "3  145000.0     7.4        60.388760      76.079  120000.0     6.1   \n",
       "4  146000.0     7.6        60.350123      76.398  113000.0     6.0   \n",
       "\n",
       "   MORTGAGE30US  NHFSEPUC  NHSDPC  NHSDPNS  HNFSEPUSSA  HSN1F  DSPIC96  \n",
       "0        8.4320     131.0    16.0     17.0       281.0  676.0   6616.3  \n",
       "1        8.7625     129.0    16.0     20.0       269.0  639.0   6649.9  \n",
       "2        8.9350     135.0    16.0     20.0       279.0  553.0   6659.6  \n",
       "3        8.8525     134.0    14.0     17.0       274.0  546.0   6679.4  \n",
       "4        8.6720     135.0    16.0     18.0       273.0  554.0   6712.9  "
      ]
     },
     "execution_count": 119,
     "metadata": {},
     "output_type": "execute_result"
    }
   ],
   "source": [
    "# Thus, the following is a new way of joining our data into one single dataframe object.\n",
    "# Find all names of our data files in csv format (all csv data has the format of 2 columns, 1st column being DATE, \n",
    "# Second column being the feature we believe that is important for our model). In order to merge all these seperate\n",
    "# featrue values into a single csv (pandas DataFrame) file for futher data cleaning and processing before the modeling,\n",
    "# phase, we loop through all the file names (saved into a list) and reading them into the pandas DataFrame one at a \n",
    "# time while joining them based on the \"DATE\" column.\n",
    "\n",
    "# Initialize an empty DataFrame object to build up into a complete dataframe with all needed features through merging other feature dataframes\n",
    "df = pd.DataFrame()\n",
    "# locate the directory path where the data are located on the local machine\n",
    "wd = os.path.abspath('FeatureData')\n",
    "# find all the data in csv format under the located directory and save them as a list variable\n",
    "all_files = glob.glob(wd + '/*.csv')\n",
    "# Open all the csv feature data as a Pandas DataFrame and saving it inside a list variable\n",
    "df_list = [pd.read_csv(file) for file in all_files]\n",
    "# Expand the initialized DataFrame by assigning it the second column of all the feature data file as a new column\n",
    "# omitting the DATE column to avoid problems caused by different DATE format\n",
    "for fileIndex in range(len(df_list)):\n",
    "    df[df_list[fileIndex].columns[1]] = df_list[fileIndex][df_list[fileIndex].columns[1]]\n",
    "# Add the DATE column into the expanded dataframe with the correct format (the same as our training and testing dataset)\n",
    "############ NEED TO FUCK AROUND WITH THIS NEXT #########!!!!!!\n",
    "\n",
    "\n",
    "df.head(5)\n",
    "\n"
   ]
  },
  {
   "cell_type": "code",
   "execution_count": null,
   "metadata": {
    "collapsed": true
   },
   "outputs": [],
   "source": []
  },
  {
   "cell_type": "code",
   "execution_count": null,
   "metadata": {},
   "outputs": [],
   "source": []
  },
  {
   "cell_type": "code",
   "execution_count": null,
   "metadata": {
    "collapsed": true
   },
   "outputs": [],
   "source": []
  },
  {
   "cell_type": "code",
   "execution_count": 110,
   "metadata": {
    "collapsed": true
   },
   "outputs": [],
   "source": [
    "# second way of fucking all files together on the columns\n",
    "df = pd.DataFrame()\n",
    "wd = r\"/Users/Roge/Desktop/Datathon\"\n",
    "all_files = glob.glob(wd + '/*.csv')\n",
    "df_list = [pd.read_csv(file) for file in all_files]"
   ]
  },
  {
   "cell_type": "code",
   "execution_count": 111,
   "metadata": {
    "collapsed": true
   },
   "outputs": [],
   "source": [
    "\n",
    "for fileIndex in range(len(df_list)):\n",
    "    df[df_list[fileIndex].columns[1]] = df_list[fileIndex][df_list[fileIndex].columns[1]]"
   ]
  },
  {
   "cell_type": "code",
   "execution_count": 112,
   "metadata": {},
   "outputs": [
    {
     "data": {
      "text/html": [
       "<div>\n",
       "<table border=\"1\" class=\"dataframe\">\n",
       "  <thead>\n",
       "    <tr style=\"text-align: right;\">\n",
       "      <th></th>\n",
       "    </tr>\n",
       "  </thead>\n",
       "  <tbody>\n",
       "  </tbody>\n",
       "</table>\n",
       "</div>"
      ],
      "text/plain": [
       "Empty DataFrame\n",
       "Columns: []\n",
       "Index: []"
      ]
     },
     "execution_count": 112,
     "metadata": {},
     "output_type": "execute_result"
    }
   ],
   "source": [
    "df"
   ]
  },
  {
   "cell_type": "code",
   "execution_count": null,
   "metadata": {
    "collapsed": true
   },
   "outputs": [],
   "source": []
  },
  {
   "cell_type": "code",
   "execution_count": null,
   "metadata": {
    "collapsed": true
   },
   "outputs": [],
   "source": []
  },
  {
   "cell_type": "code",
   "execution_count": null,
   "metadata": {
    "collapsed": true
   },
   "outputs": [],
   "source": []
  },
  {
   "cell_type": "code",
   "execution_count": null,
   "metadata": {
    "collapsed": true
   },
   "outputs": [],
   "source": []
  },
  {
   "cell_type": "code",
   "execution_count": null,
   "metadata": {
    "collapsed": true
   },
   "outputs": [],
   "source": []
  },
  {
   "cell_type": "code",
   "execution_count": null,
   "metadata": {
    "collapsed": true
   },
   "outputs": [],
   "source": []
  },
  {
   "cell_type": "code",
   "execution_count": null,
   "metadata": {
    "collapsed": true
   },
   "outputs": [],
   "source": []
  },
  {
   "cell_type": "code",
   "execution_count": 113,
   "metadata": {
    "collapsed": true
   },
   "outputs": [],
   "source": [
    "# Below is the data testing pieces due to the coder being unfamiliar with pandas since he uses it every now and then with\n",
    "# a time gap of months..."
   ]
  },
  {
   "cell_type": "code",
   "execution_count": 114,
   "metadata": {},
   "outputs": [
    {
     "ename": "IndexError",
     "evalue": "list index out of range",
     "output_type": "error",
     "traceback": [
      "\u001b[0;31m---------------------------------------------------------------------------\u001b[0m",
      "\u001b[0;31mIndexError\u001b[0m                                Traceback (most recent call last)",
      "\u001b[0;32m<ipython-input-114-1e1eecd5035b>\u001b[0m in \u001b[0;36m<module>\u001b[0;34m()\u001b[0m\n\u001b[0;32m----> 1\u001b[0;31m \u001b[0mpd\u001b[0m\u001b[0;34m.\u001b[0m\u001b[0mDataFrame\u001b[0m\u001b[0;34m(\u001b[0m\u001b[0mdf_list\u001b[0m\u001b[0;34m[\u001b[0m\u001b[0;36m0\u001b[0m\u001b[0;34m]\u001b[0m\u001b[0;34m[\u001b[0m\u001b[0mdf_list\u001b[0m\u001b[0;34m[\u001b[0m\u001b[0;36m0\u001b[0m\u001b[0;34m]\u001b[0m\u001b[0;34m.\u001b[0m\u001b[0mcolumns\u001b[0m\u001b[0;34m[\u001b[0m\u001b[0;36m1\u001b[0m\u001b[0;34m]\u001b[0m\u001b[0;34m]\u001b[0m\u001b[0;34m)\u001b[0m\u001b[0;34m.\u001b[0m\u001b[0mhead\u001b[0m\u001b[0;34m(\u001b[0m\u001b[0;36m5\u001b[0m\u001b[0;34m)\u001b[0m\u001b[0;34m\u001b[0m\u001b[0m\n\u001b[0m",
      "\u001b[0;31mIndexError\u001b[0m: list index out of range"
     ]
    }
   ],
   "source": [
    "pd.DataFrame(df_list[0][df_list[0].columns[1]]).head(5)"
   ]
  },
  {
   "cell_type": "code",
   "execution_count": null,
   "metadata": {
    "collapsed": true
   },
   "outputs": [],
   "source": [
    "df[df_list[0].columns[1]] = df_list[0][df_list[0].columns[1]]\n"
   ]
  },
  {
   "cell_type": "code",
   "execution_count": null,
   "metadata": {},
   "outputs": [],
   "source": [
    "df_list[0][df_list[0].columns[1]]"
   ]
  },
  {
   "cell_type": "code",
   "execution_count": 115,
   "metadata": {},
   "outputs": [
    {
     "ename": "IndexError",
     "evalue": "list index out of range",
     "output_type": "error",
     "traceback": [
      "\u001b[0;31m---------------------------------------------------------------------------\u001b[0m",
      "\u001b[0;31mIndexError\u001b[0m                                Traceback (most recent call last)",
      "\u001b[0;32m<ipython-input-115-46648ba5af08>\u001b[0m in \u001b[0;36m<module>\u001b[0;34m()\u001b[0m\n\u001b[0;32m----> 1\u001b[0;31m \u001b[0mdf_list\u001b[0m\u001b[0;34m[\u001b[0m\u001b[0;36m0\u001b[0m\u001b[0;34m]\u001b[0m\u001b[0;34m.\u001b[0m\u001b[0mcolumns\u001b[0m\u001b[0;34m[\u001b[0m\u001b[0;36m1\u001b[0m\u001b[0;34m]\u001b[0m\u001b[0;34m\u001b[0m\u001b[0m\n\u001b[0m",
      "\u001b[0;31mIndexError\u001b[0m: list index out of range"
     ]
    }
   ],
   "source": [
    "df_list[0].columns[1]"
   ]
  },
  {
   "cell_type": "code",
   "execution_count": null,
   "metadata": {
    "collapsed": true
   },
   "outputs": [],
   "source": []
  }
 ],
 "metadata": {
  "anaconda-cloud": {},
  "kernelspec": {
   "display_name": "Python [conda root]",
   "language": "python",
   "name": "conda-root-py"
  },
  "language_info": {
   "codemirror_mode": {
    "name": "ipython",
    "version": 3
   },
   "file_extension": ".py",
   "mimetype": "text/x-python",
   "name": "python",
   "nbconvert_exporter": "python",
   "pygments_lexer": "ipython3",
   "version": "3.5.2"
  }
 },
 "nbformat": 4,
 "nbformat_minor": 2
}
